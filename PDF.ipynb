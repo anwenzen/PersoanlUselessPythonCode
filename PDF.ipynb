{
 "cells": [
  {
   "cell_type": "code",
   "execution_count": null,
   "metadata": {},
   "outputs": [],
   "source": [
    "# pip3 install pymupdf\n",
    "# pip3 install Pillow\n",
    "from PIL import Image\n",
    "import fitz\n",
    "import sys\n",
    "\n",
    "# 将PDF输出为png\n",
    "for i in range(212,228):\n",
    "    doc = fitz.open(f'{i}.pdf') #拼凑出PDF文件名\n",
    "    for pg in range(doc.pageCount):\n",
    "        page = doc[pg]\n",
    "        zoom = 1.0 # 越大，生成图像像素越高\n",
    "        rotate = int(0)\n",
    "        trans = fitz.Matrix(zoom, zoom).preRotate(rotate)\n",
    "\n",
    "    # create raster image of page (non-transparent)\n",
    "    pm = page.getPixmap(matrix=trans, alpha=False)\n",
    "\n",
    "    # write a PNG image of the page\n",
    "    pm.writePNG(f'./{i}.png')\n",
    "\n",
    "\n",
    "# 合并png\n",
    "pngList = []\n",
    "for i in range(212,228):     #拼凑出PDF文件名，注意顺序\n",
    "    png = Image.open(f'{i}.png')\n",
    "    if png.mode == \"RGB\":\n",
    "        png = png.convert(\"RGB\")\n",
    "    pngList.append(png)\n",
    "del(pngList[0])\n",
    "#删掉列表最前面的212.png\n",
    "Image.open('212.png').save( \"./contract.pdf\", save_all=True, append_images=pngList) \n",
    "#前面的open('212.png')为第一页，把上面删掉的补回来。避免重复"
   ]
  }
 ],
 "metadata": {
  "kernelspec": {
   "display_name": "Python 3.7.7 64-bit",
   "language": "python",
   "name": "python37764bitfb0a19e3acd24b5f91faf22c99027f3b"
  },
  "language_info": {
   "codemirror_mode": {
    "name": "ipython",
    "version": 3
   },
   "file_extension": ".py",
   "mimetype": "text/x-python",
   "name": "python",
   "nbconvert_exporter": "python",
   "pygments_lexer": "ipython3",
   "version": "3.7.7"
  }
 },
 "nbformat": 4,
 "nbformat_minor": 4
}