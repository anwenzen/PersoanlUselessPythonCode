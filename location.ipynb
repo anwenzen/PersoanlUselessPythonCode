{
 "cells": [
  {
   "cell_type": "code",
   "execution_count": 2,
   "metadata": {},
   "outputs": [],
   "source": [
    "import time\n",
    "import numpy as np\n",
    "import pandas as pd\n",
    "import json\n",
    "import requests"
   ]
  },
  {
   "cell_type": "code",
   "execution_count": null,
   "metadata": {},
   "outputs": [],
   "source": [
    "def get_one_address():\n",
    "    data = pd.read_excel('', sheet_name='')\n",
    "    for i in range(len(data)):\n",
    "        try:\n",
    "            if data.iloc[i]['address']:\n",
    "\n",
    "                data.iloc[i, 5], data.iloc[i, 6] = address_to_location(data.iloc[i]['address'])\n",
    "            else:\n",
    "                data.iloc[i, 5], data.iloc[i, 6] = address_to_location(data.iloc[i]['dagchementname'])\n",
    "            time.sleep(0.1)\n",
    "            print(i)\n",
    "        except:\n",
    "            pass\n",
    "    data.to_excel('', sheet_name='')\n",
    "\n",
    "\n",
    "def address_to_location(address):\n",
    "    url = 'http://120.52.31.39/cloudapi/service/api/egis/base/v1/wgcs/geocode'\n",
    "    parameters = {\n",
    "        'layer': 'baidu',\n",
    "        'address': address,\n",
    "        'format': 'json',\n",
    "        'client_id': '28524d8c65844630a3427270c9a16323',\n",
    "        'access_token': '05652844bb3b4a7a8774fdf9ad9e13ef'\n",
    "    }\n",
    "    res = requests.get(url=url, params=parameters)\n",
    "    location = json.loads(res.content.decode('utf-8'))\n",
    "    return location['result']['location']['lng'], location['result']['location']['lat']\n",
    "\n",
    "\n",
    "if __name__ == '__main__':\n",
    "    pass\n"
   ]
  },
  {
   "cell_type": "code",
   "execution_count": null,
   "metadata": {},
   "outputs": [],
   "source": [
    "da = json.load(open(\"D:/work/data.json\", 'r', encoding='utf-8'))['data']['ANJIAN_DAGCHEMENT']"
   ]
  },
  {
   "cell_type": "code",
   "execution_count": 6,
   "metadata": {},
   "outputs": [],
   "source": [
    "data = pd.read_excel('D:/work/anjian.xls')"
   ]
  },
  {
   "cell_type": "code",
   "execution_count": 7,
   "metadata": {},
   "outputs": [],
   "source": [
    "data2 = pd.read_excel('D:/work/dagchement.xls', sheet_name='ori')"
   ]
  },
  {
   "cell_type": "code",
   "execution_count": 10,
   "metadata": {},
   "outputs": [
    {
     "name": "stdout",
     "output_type": "stream",
     "text": [
      "error 1902\n",
      "done\n"
     ]
    }
   ],
   "source": [
    "for i in range(data.shape[0]):\n",
    "    try:\n",
    "        longitude = data2[data2['dagchementname'] == data.iloc[i]['dagchementname']]['longitude']\n",
    "        latitude = data2[data2['dagchementname'] == data.iloc[i]['dagchementname']]['latitude']\n",
    "        data.loc[i,'longitude1'] = longitude[longitude.index[0]]\n",
    "        data.loc[i,'latitude1'] = latitude[latitude.index[0]]\n",
    "    except:\n",
    "#         data[i,'longitude'], data[i,'latitude'] = 0, 0\n",
    "        print('error', i)\n",
    "    else:\n",
    "        pass\n",
    "#         print('well', i)\n",
    "print('done')\n",
    "data.to_excel('D:/work/anjian_change_final.xls')"
   ]
  },
  {
   "cell_type": "code",
   "execution_count": null,
   "metadata": {},
   "outputs": [],
   "source": [
    "data2[data2['dagchementname'] == '景泰范家沟茂顺生态林场有限公司']['longitude']"
   ]
  },
  {
   "cell_type": "code",
   "execution_count": 13,
   "metadata": {},
   "outputs": [],
   "source": [
    "df = pd.read_excel('D:/work/anjian_change_final.xls')"
   ]
  },
  {
   "cell_type": "code",
   "execution_count": 19,
   "metadata": {},
   "outputs": [
    {
     "name": "stdout",
     "output_type": "stream",
     "text": [
      "anjian_longitude_10846 done\n",
      "anjian_longitude_92.13 done\n",
      "anjian_latitude_42.57 done\n",
      "anjian_latitude_32.11 done\n"
     ]
    }
   ],
   "source": [
    "df[df['longitude'] >= 108.46].to_excel('D:/work/anjian_longitude_108.46.xls')\n",
    "print('anjian_longitude_10846 done')\n",
    "df[df['longitude'] <= 92.13].to_excel('D:/work/anjian_longitude_92.13.xls')\n",
    "print('anjian_longitude_92.13 done')\n",
    "df[df['latitude'] >= 42.57].to_excel('D:/work/anjian_latitude_42.57.xls')\n",
    "print('anjian_latitude_42.57 done')\n",
    "df[df['latitude'] <= 32.11].to_excel('D:/work/anjian_latitude_32.11.xls')\n",
    "print('anjian_latitude_32.11 done')"
   ]
  },
  {
   "cell_type": "code",
   "execution_count": null,
   "metadata": {},
   "outputs": [],
   "source": []
  }
 ],
 "metadata": {
  "kernelspec": {
   "display_name": "Python 3",
   "language": "python",
   "name": "python3"
  },
  "language_info": {
   "codemirror_mode": {
    "name": "ipython",
    "version": 3
   },
   "file_extension": ".py",
   "mimetype": "text/x-python",
   "name": "python",
   "nbconvert_exporter": "python",
   "pygments_lexer": "ipython3",
   "version": "3.8.5"
  }
 },
 "nbformat": 4,
 "nbformat_minor": 4
}
