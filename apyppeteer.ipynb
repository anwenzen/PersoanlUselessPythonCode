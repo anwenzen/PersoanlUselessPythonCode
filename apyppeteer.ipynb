{
 "cells": [
  {
   "cell_type": "code",
   "execution_count": 7,
   "metadata": {},
   "outputs": [
    {
     "data": {
      "text/plain": [
       "<Task pending name='Task-2' coro=<main() running at <ipython-input-7-89c2c998f280>:5>>"
      ]
     },
     "execution_count": 7,
     "metadata": {},
     "output_type": "execute_result"
    }
   ],
   "source": [
    "import asyncio\n",
    "from pyppeteer import launch\n",
    "%gui asyncio\n",
    "\n",
    "async def main():\n",
    "    browser = await launch(userDataDir=\"./UserData\", headless=False, args=['--no-sandbox', '--window-size=1366,850'])\n",
    "    page = await browser.newPage()\n",
    "    await page.setViewport({'width': 1366, 'height': 768})\n",
    "    await page.goto('http://www.10jqka.com.cn/')\n",
    "\n",
    "loop = asyncio.get_event_loop()\n",
    "loop.create_task(main())"
   ]
  },
  {
   "cell_type": "code",
   "execution_count": null,
   "metadata": {},
   "outputs": [],
   "source": [
    "import asyncio\n",
    "from pyppeteer import launch\n",
    "\n",
    "\n",
    "async def main():\n",
    "    browser = await launch(userDataDir=\"./UserData\", headless=False, args=['--no-sandbox', '--window-size=1366,850'])\n",
    "    page = await browser.newPage()\n",
    "    await page.setViewport({'width': 1366, 'height': 768})\n",
    "    file = open('./title.text', 'w')\n",
    "    for i in range(1, 113):\n",
    "        await asyncio.sleep(0.5)\n",
    "        await page.goto('http://www.10jqka.com.cn/' % i)\n",
    "        await page.waitForSelector(\"div.vd-list-cnt > ul > li > div > div.r > a\")\n",
    "        element = await page.JJ(\"div.vd-list-cnt > ul > li > div > div.r > a\")\n",
    "        for item in element:\n",
    "            title = await (await item.getProperty(\"text\")).jsonValue()\n",
    "            print(title)\n",
    "            file.writelines(title)\n",
    "            file.write('\\n')\n",
    "    file.close()\n",
    "#     await browser.close()\n",
    "\n",
    "asyncio.get_event_loop().run_until_complete(main())\n"
   ]
  },
  {
   "cell_type": "code",
   "execution_count": null,
   "metadata": {},
   "outputs": [],
   "source": []
  }
 ],
 "metadata": {
  "kernelspec": {
   "display_name": "Python 3",
   "language": "python",
   "name": "python3"
  },
  "language_info": {
   "codemirror_mode": {
    "name": "ipython",
    "version": 3
   },
   "file_extension": ".py",
   "mimetype": "text/x-python",
   "name": "python",
   "nbconvert_exporter": "python",
   "pygments_lexer": "ipython3",
   "version": "3.8.5"
  }
 },
 "nbformat": 4,
 "nbformat_minor": 4
}
