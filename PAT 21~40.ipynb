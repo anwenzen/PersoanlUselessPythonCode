{
 "cells": [
  {
   "cell_type": "code",
   "execution_count": 4,
   "metadata": {},
   "outputs": [
    {
     "output_type": "stream",
     "name": "stdout",
     "text": "0:2\n1:3\n3:1\n"
    }
   ],
   "source": [
    "# 1021\n",
    "n = input()\n",
    "for i in range(10):\n",
    "    s = n.count(str(i))\n",
    "    if s!=0:\n",
    "        print(f\"{i}:{s}\")"
   ]
  },
  {
   "cell_type": "code",
   "execution_count": 20,
   "metadata": {},
   "outputs": [
    {
     "output_type": "stream",
     "name": "stdout",
     "text": "1103\n"
    }
   ],
   "source": [
    "# 1022\n",
    "a,b,d = map(int,input().split())\n",
    "sum = a+b\n",
    "ans = ''\n",
    "while (sum>0):\n",
    "    ans = str(sum%d) + ans\n",
    "    sum = sum//d\n",
    "if ans!='':\n",
    "    print(ans)\n",
    "else:\n",
    "    print('0')"
   ]
  },
  {
   "cell_type": "code",
   "execution_count": 16,
   "metadata": {},
   "outputs": [
    {
     "output_type": "stream",
     "name": "stdout",
     "text": "10015558\n"
    }
   ],
   "source": [
    "# 1023\n",
    "n = input().split()\n",
    "d = {}\n",
    "ans = ''\n",
    "status = True\n",
    "for i in range(10):\n",
    "    k = int(n[i])\n",
    "    for j in range(k):\n",
    "        if i!=0 and k!=0 and status==True:\n",
    "            ans = str(i) + ans\n",
    "            k-=1\n",
    "            status=False\n",
    "            continue\n",
    "        ans = ans + str(i)\n",
    "\n",
    "print(ans)"
   ]
  },
  {
   "cell_type": "code",
   "execution_count": 21,
   "metadata": {},
   "outputs": [
    {
     "output_type": "stream",
     "name": "stdout",
     "text": "['+1', '23400', '-03']\n"
    }
   ],
   "source": [
    "# 1024\n",
    "import re\n",
    "a = re.split('\\.|E',input())\n",
    "right = False\n",
    "move = int(a[2][1:])\n",
    "s = f'{a[0][1:]}{a[1]}'\n",
    "if a[2][0:1]=='+':\n",
    "    right = True\n",
    "if right:\n",
    "    ans = a[0][0:1] + ''\n",
    "else:\n",
    "    ans = a[0][0:1] + ''\n",
    "print(ans)\n"
   ]
  },
  {
   "cell_type": "code",
   "execution_count": 22,
   "metadata": {},
   "outputs": [
    {
     "output_type": "execute_result",
     "data": {
      "text/plain": "3"
     },
     "metadata": {},
     "execution_count": 22
    }
   ],
   "source": [
    "int('03')"
   ]
  },
  {
   "cell_type": "code",
   "execution_count": 1,
   "metadata": {},
   "outputs": [
    {
     "output_type": "execute_result",
     "data": {
      "text/plain": "288"
     },
     "metadata": {},
     "execution_count": 1
    }
   ],
   "source": [
    "12*24"
   ]
  }
 ],
 "metadata": {
  "language_info": {
   "codemirror_mode": {
    "name": "ipython",
    "version": 3
   },
   "file_extension": ".py",
   "mimetype": "text/x-python",
   "name": "python",
   "nbconvert_exporter": "python",
   "pygments_lexer": "ipython3",
   "version": "3.7.7-final"
  },
  "orig_nbformat": 2,
  "kernelspec": {
   "name": "python37764bit88169d3623d14ec5ab1fd88b5a6298ed",
   "display_name": "Python 3.7.7 64-bit"
  }
 },
 "nbformat": 4,
 "nbformat_minor": 2
}