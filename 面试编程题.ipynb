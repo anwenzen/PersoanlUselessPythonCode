{
 "cells": [
  {
   "cell_type": "code",
   "execution_count": 25,
   "metadata": {},
   "outputs": [
    {
     "name": "stdout",
     "output_type": "stream",
     "text": [
      "[5, 6, 3, 9, 1, 2]\n",
      "[9, 9, 9, 9, 2, 2]\n",
      "[4, 3, 6, 0, 1, 0]\n"
     ]
    }
   ],
   "source": [
    "# 水库管道积水问题；左端连接水库，封闭；右边为出水口\n",
    "\n",
    "from typing import *\n",
    "class Solution:\n",
    "    def function(self, nums: List[int], width:int) -> int:\n",
    "        n = len(nums)\n",
    "        ans = [0]*n\n",
    "        left = nums.copy()\n",
    "        for i in range(n):\n",
    "            for j in range(i):\n",
    "                if left[j]<nums[i]:\n",
    "                    left[j] = nums[i]\n",
    "        for i in range(n):\n",
    "            if nums[i]<left[i]:\n",
    "                ans[i] = left[i] - nums[i]\n",
    "\n",
    "        print(nums)\n",
    "        print(left)\n",
    "        print(ans)\n",
    "        return sum(ans)*width\n",
    "solution = Solution()\n",
    "answer = solution.function([5,6,3,9,1,2],2)"
   ]
  },
  {
   "cell_type": "code",
   "execution_count": 12,
   "metadata": {},
   "outputs": [
    {
     "data": {
      "text/plain": [
       "28"
      ]
     },
     "execution_count": 12,
     "metadata": {},
     "output_type": "execute_result"
    }
   ],
   "source": [
    "answer"
   ]
  },
  {
   "cell_type": "code",
   "execution_count": 21,
   "metadata": {},
   "outputs": [
    {
     "name": "stdout",
     "output_type": "stream",
     "text": [
      "[5, 6, 3, 9, 1, 2]\n",
      "[9, 9, 9, 9, 2, 2]\n",
      "[5, 6, 6, 9, 9, 9]\n",
      "[0, 0, 3, 0, 1, 0]\n"
     ]
    }
   ],
   "source": [
    "# 管道积水问题，左右两边均边为出水口\n",
    "\n",
    "from typing import *\n",
    "class Solution:\n",
    "    def function(self, nums: List[int], width:int) -> int:\n",
    "        n = len(nums)\n",
    "        ans = [0]*n\n",
    "        left = nums.copy()\n",
    "        for i in range(n):\n",
    "            for j in range(i):\n",
    "                if left[j]<nums[i]:\n",
    "                    left[j] = nums[i]\n",
    "        right = nums.copy()\n",
    "        for i in range(n-1,-1,-1):\n",
    "            for j in range(i,n):\n",
    "                if right[j]<nums[i]:\n",
    "                    right[j] = nums[i]\n",
    "        for i in range(n):\n",
    "            if nums[i]<min(left[i], right[i]):\n",
    "                ans[i] = min(left[i], right[i])-nums[i]\n",
    "        print(nums)\n",
    "        print(left)\n",
    "        print(right)\n",
    "        print(ans)\n",
    "        return sum(ans)*width\n",
    "solution = Solution()\n",
    "answer = solution.function([5,6,3,9,1,2],2)"
   ]
  },
  {
   "cell_type": "code",
   "execution_count": 22,
   "metadata": {},
   "outputs": [
    {
     "data": {
      "text/plain": [
       "8"
      ]
     },
     "execution_count": 22,
     "metadata": {},
     "output_type": "execute_result"
    }
   ],
   "source": [
    "answer"
   ]
  },
  {
   "cell_type": "code",
   "execution_count": 1,
   "metadata": {},
   "outputs": [
    {
     "name": "stdin",
     "output_type": "stream",
     "text": [
      " 1\n",
      " 7 3\n",
      " 0 2\n",
      " 2 0\n",
      " 4 4\n"
     ]
    },
    {
     "name": "stdout",
     "output_type": "stream",
     "text": [
      "3\n",
      "23\n",
      "45\n"
     ]
    }
   ],
   "source": [
    "# 蛇形矩阵\n",
    "def number():\n",
    "    n = 1\n",
    "    while True:\n",
    "        yield n\n",
    "        n += 1\n",
    "def ReturnMatrix(n: int):\n",
    "    num = number()\n",
    "    matrix = [0]*n\n",
    "    matrix = [matrix.copy() for _ in range(n)]\n",
    "    top, left, right, bottom = 0, 0, n-1, n-1\n",
    "    while left<=right and top<= bottom:\n",
    "        # 顺时针\n",
    "        for j in range(left, right+1):\n",
    "            matrix[top][j] = next(num)\n",
    "        for i in range(top+1, bottom+1):\n",
    "            matrix[i][right] = next(num)\n",
    "        if left < right and top < bottom:\n",
    "            for j in range(right-1, left, -1):\n",
    "                matrix[bottom][j] = next(num)\n",
    "            for i in range(bottom, top, -1):\n",
    "                matrix[i][left] = next(num)\n",
    "        left, right, top, bottom = left + 1, right - 1, top + 1, bottom - 1\n",
    "        # 逆时针\n",
    "        for i in range(top, bottom+1):\n",
    "            matrix[i][left] = next(num)\n",
    "        for j in range(left+1, right+1):\n",
    "            matrix[bottom][j] = next(num)\n",
    "        if left<right and top<bottom:\n",
    "            for i in range(bottom-1, top-1, -1):\n",
    "                matrix[i][right] = next(num)\n",
    "            for j in range(right-1, left, -1):\n",
    "                matrix[top][j] = next(num)\n",
    "        left, right, top, bottom = left + 1, right - 1, top + 1, bottom - 1\n",
    "    return matrix\n",
    "\n",
    "def start():\n",
    "    N, M = map(int,input().split())\n",
    "    nums = [0]*(M*2)\n",
    "    for i in range(0,M*2,2):\n",
    "        nums[i], nums[i+1] = map(int,input().split())\n",
    "    matrix = ReturnMatrix(N)\n",
    "    for i in range(0,M*2,2):\n",
    "        print(matrix[nums[i]][nums[i+1]])\n",
    "def main():\n",
    "    c = int(input())\n",
    "    for i in range(c):\n",
    "        start()\n",
    "main()\n"
   ]
  },
  {
   "cell_type": "code",
   "execution_count": 50,
   "metadata": {},
   "outputs": [],
   "source": [
    "def open(file_name):\n",
    "    pass\n",
    "\n",
    "def dup(fd):\n",
    "    pass\n",
    "\n",
    "def dup2(fd, new_fd):\n",
    "    pass\n",
    "\n",
    "def close(fd):\n",
    "    pass\n",
    "\n",
    "def query(fd):\n",
    "    pass\n",
    "\n",
    "\n",
    "\n",
    "\n",
    "\n",
    "def start():\n",
    "    N = int(input())\n",
    "    for i in range(N):\n",
    "        string = input().split()\n",
    "        if string[0]=='open':\n",
    "            open(string[1])\n",
    "        elif string[0]=='dup':\n",
    "            dup(int(string[1]))\n",
    "        elif string[0]=='dup2':\n",
    "            dup2(int(string[1]), int(string[2]))\n",
    "        elif string[0]=='close':\n",
    "            close(int(string[1]))\n",
    "        elif string[0]=='query'\n",
    "            query(int(string[1]))\n",
    "\n",
    "def main():\n",
    "    T = int(input())\n",
    "    for i in range(T):\n",
    "        start()"
   ]
  }
 ],
 "metadata": {
  "kernelspec": {
   "display_name": "Python 3",
   "language": "python",
   "name": "python3"
  },
  "language_info": {
   "codemirror_mode": {
    "name": "ipython",
    "version": 3
   },
   "file_extension": ".py",
   "mimetype": "text/x-python",
   "name": "python",
   "nbconvert_exporter": "python",
   "pygments_lexer": "ipython3",
   "version": "3.8.5"
  }
 },
 "nbformat": 4,
 "nbformat_minor": 4
}
