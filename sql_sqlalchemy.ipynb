{
 "cells": [
  {
   "cell_type": "code",
   "execution_count": 1,
   "metadata": {},
   "outputs": [],
   "source": [
    "import pandas as pd\n",
    "import numpy as np\n",
    "import matplotlib.pyplot as plt\n",
    "from sqlalchemy import create_engine\n",
    "import psycopg2"
   ]
  },
  {
   "cell_type": "code",
   "execution_count": 2,
   "metadata": {},
   "outputs": [],
   "source": [
    "d_type = 'postgresql'\n",
    "d_client = 'psycopg2'\n",
    "user = 'postgres'\n",
    "passwd = 'postgres'\n",
    "host = '172.17.10.191'\n",
    "port = '9999'\n",
    "database = 'hy'\n",
    "charset = ''\n",
    "# engine = create_engine(f'{d_type}+{d_client}://{user}:{passwd}@{host}:{port}/{database}?charset=utf8')\n",
    "engine = create_engine(f'{d_type}+{d_client}://{user}:{passwd}@{host}:{port}/{database}')"
   ]
  },
  {
   "cell_type": "code",
   "execution_count": 7,
   "metadata": {},
   "outputs": [],
   "source": [
    "data1 = pd.read_sql('SELECT * FROM pg_tables', engine)"
   ]
  },
  {
   "cell_type": "code",
   "execution_count": 13,
   "metadata": {},
   "outputs": [],
   "source": [
    "data2 = pd.read_sql_query('SELECT * FROM \"edata\".\"egis_publish_wras\"', engine)"
   ]
  },
  {
   "cell_type": "code",
   "execution_count": null,
   "metadata": {},
   "outputs": [],
   "source": []
  },
  {
   "cell_type": "code",
   "execution_count": 42,
   "metadata": {},
   "outputs": [
    {
     "data": {
      "text/plain": [
       "<sqlalchemy.engine.result.ResultProxy at 0x52988e0>"
      ]
     },
     "execution_count": 42,
     "metadata": {},
     "output_type": "execute_result"
    }
   ],
   "source": [
    "conn = engine.connect()\n",
    "conn.execute(\"\"\"\\\n",
    "UPDATE \"edata\".\"egis_publish_wras\" SET \"name\" = 'test00' WHERE \"id\" = '37db7dcd-b14d-44af-9d48-d604e6175ed3';\\\n",
    "\"\"\")"
   ]
  },
  {
   "cell_type": "code",
   "execution_count": 43,
   "metadata": {},
   "outputs": [],
   "source": [
    "result = conn.execute('''\\\n",
    "SELECT * FROM \"edata\".\"egis_publish_wras\" WHERE \"id\" = '37db7dcd-b14d-44af-9d48-d604e6175ed3';\\\n",
    "''')"
   ]
  },
  {
   "cell_type": "code",
   "execution_count": 44,
   "metadata": {},
   "outputs": [
    {
     "data": {
      "text/plain": [
       "[('37db7dcd-b14d-44af-9d48-d604e6175ed3', 'test资源综合分析服务', 'test', 'test00', <memory at 0x000000000D445AC0>, 1, None)]"
      ]
     },
     "execution_count": 44,
     "metadata": {},
     "output_type": "execute_result"
    }
   ],
   "source": [
    "result.fetchall()"
   ]
  },
  {
   "cell_type": "code",
   "execution_count": null,
   "metadata": {},
   "outputs": [],
   "source": []
  },
  {
   "cell_type": "code",
   "execution_count": null,
   "metadata": {},
   "outputs": [],
   "source": []
  }
 ],
 "metadata": {
  "kernelspec": {
   "display_name": "Python 3",
   "language": "python",
   "name": "python3"
  },
  "language_info": {
   "codemirror_mode": {
    "name": "ipython",
    "version": 3
   },
   "file_extension": ".py",
   "mimetype": "text/x-python",
   "name": "python",
   "nbconvert_exporter": "python",
   "pygments_lexer": "ipython3",
   "version": "3.8.5"
  }
 },
 "nbformat": 4,
 "nbformat_minor": 4
}
