{
 "cells": [
  {
   "cell_type": "code",
   "execution_count": 19,
   "metadata": {
    "tags": []
   },
   "outputs": [
    {
     "name": "stdout",
     "output_type": "stream",
     "text": [
      "0.00186515\n"
     ]
    }
   ],
   "source": [
    "import time\n",
    "a = [0]*2000000\n",
    "start = time.time()\n",
    "for i in range(10000):\n",
    "    a.append(i)\n",
    "end = time.time() - start\n",
    "\n",
    "print(\"%.8f\" % end)"
   ]
  },
  {
   "cell_type": "code",
   "execution_count": 17,
   "metadata": {
    "tags": []
   },
   "outputs": [
    {
     "name": "stdout",
     "output_type": "stream",
     "text": [
      "0.00144815\n"
     ]
    }
   ],
   "source": [
    "import time\n",
    "a = [0]*1000000\n",
    "start = time.time()\n",
    "for i in range(10000):\n",
    "#     item = a[0]\n",
    "    a.pop()\n",
    "end = time.time() - start\n",
    "print(\"%.8f\" % end)"
   ]
  },
  {
   "cell_type": "code",
   "execution_count": null,
   "metadata": {},
   "outputs": [],
   "source": [
    "from turtle import * \n",
    "def tree(branchLen, t):\n",
    "    if branchLen > 5:\n",
    "        t.forward(branchLen)\n",
    "        t.right(20)\n",
    "        tree(branchLen-15, t)\n",
    "        t.left(40)\n",
    "        tree(branchLen-10, t)\n",
    "        t.right(20)\n",
    "        t.backward(branchLen)\n",
    "t = Turtle()\n",
    "myWin = t.getscreen()\n",
    "t.left(90)\n",
    "t.up()\n",
    "t.backward(300)\n",
    "t.down()\n",
    "t.color('green')\n",
    "tree(110,t)"
   ]
  },
  {
   "cell_type": "code",
   "execution_count": 19,
   "metadata": {
    "pycharm": {
     "name": "#%%\n"
    }
   },
   "outputs": [
    {
     "name": "stdout",
     "output_type": "stream",
     "text": [
      "[51, 56, 68, 82, 125, 130, 138, 142, 196, 226, 273, 279, 281, 324, 343, 350, 359, 374, 389, 392, 400, 401, 433, 461, 472]\n"
     ]
    }
   ],
   "source": [
    "# 冒泡排序\n",
    "num = [343, 130, 374, 392, 138, 472, 82, 350, 281, 142, 273, 461, 359, 279, 56, 196, 324, 389, 125, 400, 433, 51, 226, 68, 401]\n",
    "def bubble2sort(nums: list):\n",
    "    n = len(num)\n",
    "    for i in range(n):\n",
    "        for j in range(n):\n",
    "            if nums[i]<nums[j]:\n",
    "                nums[i], nums[j] = nums[j], nums[i]\n",
    "bubble2sort(num)\n",
    "print(num)"
   ]
  },
  {
   "cell_type": "code",
   "execution_count": 15,
   "metadata": {
    "collapsed": false,
    "jupyter": {
     "outputs_hidden": false
    },
    "pycharm": {
     "name": "#%%\n"
    }
   },
   "outputs": [
    {
     "name": "stdout",
     "output_type": "stream",
     "text": [
      "[51, 56, 68, 82, 125, 130, 138, 142, 196, 226, 273, 279, 281, 324, 343, 350, 359, 374, 389, 392, 400, 401, 433, 461, 472]\n"
     ]
    }
   ],
   "source": [
    "# 选择排序 不稳定（当存在相同的数据时，原本的顺序不能保证）\n",
    "num = [343, 130, 374, 392, 138, 472, 82, 350, 281, 142, 273, 461, 359, 279, 56, 196, 324, 389, 125, 400, 433, 51, 226, 68, 401]\n",
    "\n",
    "def select2sort(nums: list):\n",
    "    n = len(num)\n",
    "    for i in range(n):\n",
    "        index = i\n",
    "        for j in range(i+1, n):\n",
    "            if nums[j]<nums[index]:\n",
    "                index = j\n",
    "        nums[index],nums[i] = nums[i], nums[index]\n",
    "select2sort(num)\n",
    "print(num)"
   ]
  },
  {
   "cell_type": "code",
   "execution_count": null,
   "metadata": {
    "collapsed": false,
    "jupyter": {
     "outputs_hidden": false
    },
    "pycharm": {
     "name": "#%%\n"
    }
   },
   "outputs": [],
   "source": [
    "# 插入排序\n",
    "num = [343, 130, 374, 392, 138, 472, 82, 350, 281, 142, 273, 461, 359, 279, 56, 196, 324, 389, 125, 400, 433, 51, 226, 68, 401]\n",
    "def Insert2sort(nums: list):\n",
    "    tmp = nums[0]\n",
    "    for i in range(len(nums)):\n",
    "        for j in range():\n",
    "            pass"
   ]
  },
  {
   "cell_type": "code",
   "execution_count": 5,
   "metadata": {
    "collapsed": false,
    "jupyter": {
     "outputs_hidden": false
    },
    "pycharm": {
     "name": "#%%\n"
    }
   },
   "outputs": [
    {
     "name": "stdout",
     "output_type": "stream",
     "text": [
      "[51, 56, 68, 82, 125, 130, 138, 142, 196, 226, 273, 279, 281, 324, 343, 350, 359, 374, 389, 392, 400, 401, 433, 461, 472]\n"
     ]
    }
   ],
   "source": [
    "# 快速排序 不稳定\n",
    "num = [343, 130, 374, 392, 138, 472, 82, 350, 281, 142, 273, 461, 359, 279, 56, 196, 324, 389, 125, 400, 433, 51, 226, 68, 401]\n",
    "def quick2sort(nums: list, left: int, right: int)->list:\n",
    "    if left<  right:\n",
    "        i, j = left, right\n",
    "        while i < j:\n",
    "            while i< j and nums[j]>=nums[left]:\n",
    "                j -= 1\n",
    "            while i< j and nums[i]<nums[left]:\n",
    "                i += 1\n",
    "            if i<  j:\n",
    "                nums[i], nums[j] = nums[j], nums[i]\n",
    "        nums[i], nums[left] = nums[left], nums[i]\n",
    "        quick2sort(nums, left, i -1)\n",
    "        quick2sort(nums, i+1, right)\n",
    "            \n",
    "quick2sort(num,0, len(num)-1)\n",
    "print(num)"
   ]
  },
  {
   "cell_type": "code",
   "execution_count": 22,
   "metadata": {},
   "outputs": [
    {
     "data": {
      "text/plain": [
       "[[1, 2, 3], [1, 3, 2], [2, 1, 3], [2, 3, 1], [3, 1, 2], [3, 2, 1]]"
      ]
     },
     "execution_count": 22,
     "metadata": {},
     "output_type": "execute_result"
    }
   ],
   "source": [
    "from typing import *\n",
    "class Solution:\n",
    "    def permute(self, nums: List[int]) -> List[List[int]]:\n",
    "        length = len(nums)\n",
    "        res = []\n",
    "        if length == 0:\n",
    "            return res\n",
    "        path = []\n",
    "        used = [False] * length\n",
    "        self.dfs(nums, length, 0, path, used, res)\n",
    "        return res\n",
    "\n",
    "    def dfs(self, nums, length, depth, path, used, res):\n",
    "        if depth == length:\n",
    "            res.append(path[:])\n",
    "            return\n",
    "        \n",
    "        for i in range(length):\n",
    "            if used[i]:\n",
    "                continue\n",
    "            path.append(nums[i])\n",
    "            used[i] = True\n",
    "            self.dfs(nums, length, depth+1, path, used, res)\n",
    "            path.pop()\n",
    "            used[i] = False\n",
    "\n",
    "sol = Solution()\n",
    "sol.permute([1,2,3])"
   ]
  },
  {
   "cell_type": "code",
   "execution_count": 23,
   "metadata": {},
   "outputs": [
    {
     "data": {
      "text/plain": [
       "[[1, 2, 3], [1, 3, 2], [2, 1, 3], [2, 3, 1], [3, 1, 2], [3, 2, 1]]"
      ]
     },
     "execution_count": 23,
     "metadata": {},
     "output_type": "execute_result"
    }
   ],
   "source": [
    "# 深度优先遍历\n",
    "# 全排序\n",
    "def permute(nums: List[int]) -> List[List[int]]:\n",
    "    length = len(nums)\n",
    "    res = []\n",
    "    if length == 0:\n",
    "        return res\n",
    "    path = []\n",
    "    used = [False] * length\n",
    "    dfs(nums, length, 0, path, used, res)\n",
    "    return res\n",
    "\n",
    "def dfs(nums, length, depth, path, used, res):\n",
    "    if depth == length:\n",
    "        res.append(path.copy())\n",
    "        return\n",
    "\n",
    "    for i in range(length):\n",
    "        if used[i]:\n",
    "            continue\n",
    "        path.append(nums[i])\n",
    "        used[i] = True\n",
    "        dfs(nums, length, depth+1, path, used, res)\n",
    "        path.pop()\n",
    "        used[i] = False\n",
    "        \n",
    "permute([1,2,3])"
   ]
  },
  {
   "cell_type": "code",
   "execution_count": null,
   "metadata": {},
   "outputs": [],
   "source": []
  }
 ],
 "metadata": {
  "kernelspec": {
   "display_name": "Python 3",
   "language": "python",
   "name": "python3"
  },
  "language_info": {
   "codemirror_mode": {
    "name": "ipython",
    "version": 3
   },
   "file_extension": ".py",
   "mimetype": "text/x-python",
   "name": "python",
   "nbconvert_exporter": "python",
   "pygments_lexer": "ipython3",
   "version": "3.8.5"
  }
 },
 "nbformat": 4,
 "nbformat_minor": 4
}
