{
 "cells": [
  {
   "cell_type": "code",
   "execution_count": 1,
   "metadata": {},
   "outputs": [],
   "source": [
    "import re\n",
    "import requests\n",
    "from Crypto.Cipher import AES\n",
    "import base64"
   ]
  },
  {
   "cell_type": "code",
   "execution_count": 2,
   "metadata": {},
   "outputs": [
    {
     "name": "stdout",
     "output_type": "stream",
     "text": [
      "b'\\x06F\\xa1Gmv&\\x03,\\xe2a.=\\x19\\xa9p\\r\\xfd\\xc2\\x1a-\\xf0\\xda\\xcb\\x7f6\\xb1\\xd6\\xf2\\xf1\\x80\\n'\n",
      "b'b45680d507ba4f27c666d943ae42c0e7'\n",
      "b'\\xc0]\\x1fs\\xbd+)\\xf8I\\xd1\\x8d\\x8c\\x91\\x0b\\x7f\\x1b'\n"
     ]
    }
   ],
   "source": [
    "with open('/Users/wenzen/Downloads/20200612/f8f97d17d0bf69d7ce13c965fb7d0e73_1.key', 'rb') as f:\n",
    "    key = f.read()\n",
    "iv = b'b45680d507ba4f27c666d943ae42c0e7'\n",
    "base64_key = b'wF0fc70rKfhJ0Y2MkQt/Gw=='\n",
    "print(key, iv, base64.b64decode(base64_key), sep='\\n')"
   ]
  },
  {
   "cell_type": "code",
   "execution_count": 3,
   "metadata": {},
   "outputs": [
    {
     "data": {
      "text/plain": [
       "b'4\\x0c\\xb8\\x9b\\xe2\\xd3\\xc0\\x80\\xf7K\\xfd\\xb9$9U\\x14'"
      ]
     },
     "execution_count": 3,
     "metadata": {},
     "output_type": "execute_result"
    }
   ],
   "source": [
    "open('/Users/wenzen/PycharmProjects/M3u8Download/1234/key', 'rb').read()"
   ]
  },
  {
   "cell_type": "code",
   "execution_count": 12,
   "metadata": {},
   "outputs": [
    {
     "data": {
      "text/plain": [
       "b\"\\xb4V\\x80\\xd5\\x07\\xbaO'\\xc6f\\xd9C\\xaeB\\xc0\\xe7\""
      ]
     },
     "execution_count": 12,
     "metadata": {},
     "output_type": "execute_result"
    }
   ],
   "source": [
    "bytes().fromhex('b45680d507ba4f27c666d943ae42c0e7')"
   ]
  },
  {
   "cell_type": "code",
   "execution_count": 13,
   "metadata": {},
   "outputs": [
    {
     "data": {
      "text/plain": [
       "b'\\x06F\\xa1Gmv&\\x03,\\xe2a.=\\x19\\xa9p\\r\\xfd\\xc2\\x1a-\\xf0\\xda\\xcb\\x7f6\\xb1\\xd6\\xf2\\xf1\\x80\\n'"
      ]
     },
     "execution_count": 13,
     "metadata": {},
     "output_type": "execute_result"
    }
   ],
   "source": [
    "key"
   ]
  },
  {
   "cell_type": "code",
   "execution_count": 14,
   "metadata": {},
   "outputs": [],
   "source": [
    "cryptor = AES.new(key=key, mode=AES.MODE_CBC, IV=IV)"
   ]
  },
  {
   "cell_type": "code",
   "execution_count": 6,
   "metadata": {},
   "outputs": [],
   "source": [
    "with open('/Users/wenzen/Downloads/20200612/f8f97d17d0bf69d7ce13c965fb7d0e73_1_13.ts', 'rb') as f:\n",
    "    content = f.read()\n",
    "    with open('/Users/wenzen/Downloads/20200612/test.ts', 'wb') as f:\n",
    "        f.write(cryptor.decrypt(content))"
   ]
  },
  {
   "cell_type": "code",
   "execution_count": 1,
   "metadata": {},
   "outputs": [
    {
     "name": "stdout",
     "output_type": "stream",
     "text": [
      "['/Users/wenzen/anaconda3/lib/python3.8/site-packages/ipykernel_launcher.py', '-f', '/Users/wenzen/Library/Jupyter/runtime/kernel-63709a52-cbe8-4c74-9d98-8826943f4cd4.json']\n"
     ]
    }
   ],
   "source": [
    "import sys\n",
    "print(sys.argv)"
   ]
  },
  {
   "cell_type": "code",
   "execution_count": null,
   "metadata": {},
   "outputs": [],
   "source": []
  }
 ],
 "metadata": {
  "kernelspec": {
   "display_name": "Python 3",
   "language": "python",
   "name": "python3"
  },
  "language_info": {
   "codemirror_mode": {
    "name": "ipython",
    "version": 3
   },
   "file_extension": ".py",
   "mimetype": "text/x-python",
   "name": "python",
   "nbconvert_exporter": "python",
   "pygments_lexer": "ipython3",
   "version": "3.8.5"
  }
 },
 "nbformat": 4,
 "nbformat_minor": 4
}
