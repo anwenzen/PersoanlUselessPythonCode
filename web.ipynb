{
 "cells": [
  {
   "cell_type": "code",
   "execution_count": 10,
   "metadata": {},
   "outputs": [],
   "source": [
    "# pip3 install pymupdf\n",
    "# pip3 install Pillow\n",
    "from PIL import Image\n",
    "import fitz\n",
    "import sys\n",
    "import os\n",
    "\n",
    "def PDFtoLISTPDF(path,start,end):\n",
    "    # 将PDF输出为png\n",
    "    for i in range(start,end):\n",
    "        if i==105:\n",
    "            continue\n",
    "        doc = fitz.open(f'{path}{i}.pdf') #拼凑出PDF文件名\n",
    "        for pg in range(doc.pageCount):\n",
    "            page = doc[pg]\n",
    "            zoom = 4.0 # 越大，生成图像像素越高\n",
    "            rotate = int(0)\n",
    "            trans = fitz.Matrix(zoom, zoom).preRotate(rotate)\n",
    "        pm = page.getPixmap(matrix=trans, alpha=False)  # create raster image of page (non-transparent)\n",
    "        pm.writePNG(f'{path}{i}.png')   # write a PNG image of the page\n",
    "\n",
    "    # 合并png\n",
    "    pngList = []\n",
    "    for i in range(start,end):    #拼凑出PDF文件名，注意顺序\n",
    "        if i==105:\n",
    "            continue\n",
    "        png = Image.open(f'{path}{i}.png')\n",
    "        if png.mode == \"RGB\":\n",
    "            png = png.convert(\"RGB\")\n",
    "        pngList.append(png)\n",
    "    del(pngList[0])    #删掉列表最前面的34.png\n",
    "    Image.open(f'{path}{start}.png').save( f\"{path}list--{start}-{end-1}.pdf\", save_all=True, append_images=pngList) \n",
    "    #前面的open('34.png')为第一页，把上面删掉的补回来。避免重复\n",
    "\n",
    "    # 删掉所有的png文件\n",
    "    files = os.listdir(path)\n",
    "    png = []\n",
    "    for i in files:\n",
    "        if '.png' in i:\n",
    "            png.append(i)\n",
    "    for i in png:\n",
    "        os.remove(f'{path}{i}')\n",
    "\n",
    "\n",
    "if __name__ == \"__main__\":\n",
    "    PDFtoLISTPDF('/Users/anwenzen/Downloads/Documents/编译原理/第1章/',1,8)"
   ]
  },
  {
   "cell_type": "code",
   "execution_count": 1,
   "metadata": {},
   "outputs": [
    {
     "name": "stdin",
     "output_type": "stream",
     "text": [
      "a =  2\n",
      "b =  7\n"
     ]
    },
    {
     "name": "stdout",
     "output_type": "stream",
     "text": [
      "2 + 7 = 9\n",
      "2 - 7 = -5\n",
      "2 * 7 = 14\n",
      "2 / 7 = 0.285714\n",
      "2 // 7 = 0\n",
      "2 % 7 = 2\n",
      "2 ** 7 = 128\n"
     ]
    }
   ],
   "source": [
    "a = int(input('a = '))\n",
    "b = int(input('b = '))\n",
    "print('%d + %d = %d' % (a, b, a + b))\n",
    "print('%d - %d = %d' % (a, b, a - b))\n",
    "print('%d * %d = %d' % (a, b, a * b))\n",
    "print('%d / %d = %f' % (a, b, a / b))\n",
    "print('%d // %d = %d' % (a, b, a // b))\n",
    "print('%d %% %d = %d' % (a, b, a % b))\n",
    "print('%d ** %d = %d' % (a, b, a ** b))"
   ]
  },
  {
   "cell_type": "code",
   "execution_count": 2,
   "metadata": {},
   "outputs": [
    {
     "name": "stdout",
     "output_type": "stream",
     "text": [
      "195\n"
     ]
    }
   ],
   "source": [
    "a = 10\n",
    "b = 3\n",
    "a += b        # 相当于：a = a + b\n",
    "a *= a + 2    # 相当于：a = a * (a + 2)\n",
    "print(a) "
   ]
  },
  {
   "cell_type": "code",
   "execution_count": 3,
   "metadata": {},
   "outputs": [
    {
     "data": {
      "text/plain": [
       "195"
      ]
     },
     "execution_count": 3,
     "metadata": {},
     "output_type": "execute_result"
    }
   ],
   "source": [
    "13*15"
   ]
  },
  {
   "cell_type": "code",
   "execution_count": 4,
   "metadata": {},
   "outputs": [
    {
     "name": "stdin",
     "output_type": "stream",
     "text": [
      "num =  5313\n"
     ]
    },
    {
     "name": "stdout",
     "output_type": "stream",
     "text": [
      "3135\n"
     ]
    }
   ],
   "source": [
    "num = int(input('num = '))\n",
    "reversed_num = 0\n",
    "while num > 0:\n",
    "    pass\n",
    "print(reversed_num)"
   ]
  },
  {
   "cell_type": "code",
   "execution_count": null,
   "metadata": {},
   "outputs": [],
   "source": []
  }
 ],
 "metadata": {
  "kernelspec": {
   "display_name": "Python 3",
   "language": "python",
   "name": "python3"
  },
  "language_info": {
   "codemirror_mode": {
    "name": "ipython",
    "version": 3
   },
   "file_extension": ".py",
   "mimetype": "text/x-python",
   "name": "python",
   "nbconvert_exporter": "python",
   "pygments_lexer": "ipython3",
   "version": "3.8.5"
  }
 },
 "nbformat": 4,
 "nbformat_minor": 4
}
